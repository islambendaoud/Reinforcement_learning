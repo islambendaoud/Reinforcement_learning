{
 "cells": [
  {
   "cell_type": "code",
   "execution_count": 3,
   "id": "0c721b59",
   "metadata": {},
   "outputs": [],
   "source": [
    "import gymnasium as gym"
   ]
  },
  {
   "cell_type": "code",
   "execution_count": 6,
   "id": "abf9a731",
   "metadata": {},
   "outputs": [],
   "source": [
    "env = gym.make(\"Pendulum-v1\" , g=9.81)"
   ]
  },
  {
   "cell_type": "code",
   "execution_count": 10,
   "id": "84860f77",
   "metadata": {},
   "outputs": [
    {
     "data": {
      "text/plain": [
       "Box([-1. -1. -8.], [1. 1. 8.], (3,), float32)"
      ]
     },
     "execution_count": 10,
     "metadata": {},
     "output_type": "execute_result"
    }
   ],
   "source": [
    "env.observation_space"
   ]
  },
  {
   "cell_type": "code",
   "execution_count": 12,
   "id": "580ad9a0",
   "metadata": {},
   "outputs": [
    {
     "data": {
      "text/plain": [
       "Box(-2.0, 2.0, (1,), float32)"
      ]
     },
     "execution_count": 12,
     "metadata": {},
     "output_type": "execute_result"
    }
   ],
   "source": [
    "env.action_space"
   ]
  },
  {
   "cell_type": "code",
   "execution_count": 13,
   "id": "0394f19b",
   "metadata": {},
   "outputs": [
    {
     "data": {
      "text/plain": [
       "(array([-0.14995256,  0.9886932 , -0.12224312], dtype=float32), {})"
      ]
     },
     "execution_count": 13,
     "metadata": {},
     "output_type": "execute_result"
    }
   ],
   "source": [
    "env.reset(seed = 42)"
   ]
  },
  {
   "cell_type": "code",
   "execution_count": 18,
   "id": "5f55c165",
   "metadata": {},
   "outputs": [],
   "source": [
    "def discretize_continuous_value(continuous_value,  num_intervals):\n",
    "    discrete_value = int((continuous_value - (-1)) / 2 * num_intervals)\n",
    "    return discrete_value"
   ]
  },
  {
   "cell_type": "code",
   "execution_count": 20,
   "id": "b218ba5f",
   "metadata": {},
   "outputs": [
    {
     "data": {
      "text/plain": [
       "1"
      ]
     },
     "execution_count": 20,
     "metadata": {},
     "output_type": "execute_result"
    }
   ],
   "source": [
    "discretize_continuous_value(-0.7458 , 10)"
   ]
  },
  {
   "cell_type": "code",
   "execution_count": null,
   "id": "6370e853",
   "metadata": {},
   "outputs": [],
   "source": [
    "def QLearning(lab ,eps = 1 ,gamma = 0.9 , n_iter = 100)  : \n",
    "    Q = np.zeros((num_intervals , num_intervals, lab.hauteur, 5 , ))\n",
    "    n = np.zeros(( r,lab.hauteur, 5 , ))\n",
    "    steps = []\n",
    "    for i in range(n_iter): \n",
    "        s = tuple(lab.reset())\n",
    "        done = False \n",
    "        t = 0 \n",
    "        while  not done : \n",
    "            r = np.random.rand()\n",
    "            bool_acts , acts =  lab.possible_actions()\n",
    "            arr = Q[s[0] , s[1] , : ]\n",
    "            if r <= eps or arr.sum() == 0  : \n",
    "                act = random.choice(acts)\n",
    "            else : \n",
    "                probability_array = (arr/(n[s[0] , s[1] , : ]+1 ))\n",
    "                probability_array_normalized = probability_array/probability_array.sum()\n",
    "                act= np.argmax(probability_array_normalized)\n",
    "            s_new , r , done , pas = lab.step(act)\n",
    "            n_step = pas['n']\n",
    "            s_new = tuple(s_new)\n",
    "            # quality of current state\n",
    "            q_s_a=  Q[s[0] , s[1] , act]\n",
    "            \n",
    "            \n",
    "            # alpha \n",
    "            alpha = 1/(n[s[0] , s[1] , act]+1 )\n",
    "            \n",
    "            \n",
    "            #quality of next_state\n",
    "            q_sn_a = np.max(Q[s_new[0] , s_new[1] , :])\n",
    "            \n",
    "            # calculation \n",
    "            \n",
    "            q = q_s_a+  alpha  *(r + gamma* q_sn_a - q_s_a)\n",
    "            \n",
    "            Q[s[0] , s[1] , act] = q \n",
    "            n[s[0] , s[1] , act] = n[s[0] , s[1] , act] + 1\n",
    "            s = s_new\n",
    "            t+=1 \n",
    "            eps = eps * 0.98\n",
    "        steps.append(n_step)\n",
    "    return np.argmax(Q , axis = 2 ).T ,np.argmin(np.array(steps)) , steps\n"
   ]
  }
 ],
 "metadata": {
  "kernelspec": {
   "display_name": "Python 3",
   "language": "python",
   "name": "python3"
  },
  "language_info": {
   "codemirror_mode": {
    "name": "ipython",
    "version": 3
   },
   "file_extension": ".py",
   "mimetype": "text/x-python",
   "name": "python",
   "nbconvert_exporter": "python",
   "pygments_lexer": "ipython3",
   "version": "3.8.8"
  }
 },
 "nbformat": 4,
 "nbformat_minor": 5
}
